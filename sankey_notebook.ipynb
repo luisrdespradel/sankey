{
 "cells": [
  {
   "cell_type": "markdown",
   "metadata": {},
   "source": [
    "# Visualizacion del Origen del PIB utilizando un Diagrama Sankey\n",
    "por Luis Despradel"
   ]
  },
  {
   "cell_type": "code",
   "execution_count": 5,
   "metadata": {},
   "outputs": [],
   "source": [
    "import pandas as pd"
   ]
  },
  {
   "cell_type": "markdown",
   "metadata": {},
   "source": [
    "## Introducción\n",
    "\n",
    "Estaremos diagramando el origen del PIB de diferentes actividades economicas. Disclaimer: varias partes de los textos explicativos fueron generados con ChatGPT. \n",
    "\n",
    "\n",
    "Un diagrama de Sankey es un tipo de gráfico de flujo que se utiliza para mostrar la transferencia de datos. Lo que lo distingue es su capacidad para visualizar los volúmenes de flujo a través de anchos de banda proporcionales. Estos anchos varían en tamaño según la cantidad de flujo, facilitando una interpretación rápida y efectiva. Los graficos de Sankey ofrecen una manera intuitiva de representar flujos \n",
    "complejos y transferencias cuantitativas.\n",
    "\n",
    "Usos Comunes de los Diagramas de Sankey\n",
    "- Gestión de Energía: Utilizados para ilustrar dónde se produce y consume energía, identificando posibles áreas de ahorro.\n",
    "- Cadena de Suministro y Logística: Ayudan a visualizar el movimiento de materiales, productos y costos a través de una cadena de suministro.\n",
    "- Análisis Financiero: Perfectos para representar flujos de dinero en presupuestos o transacciones financieras.\n",
    "- Investigación Medioambiental: Usados para estudiar flujos ecológicos, como el ciclo del agua o las emisiones de carbono."
   ]
  },
  {
   "cell_type": "markdown",
   "metadata": {},
   "source": [
    "## Fuente de informacion\n",
    "\n",
    "La data que estaremos utilizando es el \"Producto Interno Bruto (PIB) por sectores de origen. Valores corrientes e índices de volumen encadenados referenciados al año 2007, trimestral\" publicado por el Banco Central de la República Dominicana. Este puede ser adquirido en su pagina web https://www.bancentral.gov.do/a/d/2533-sector-real. Al igual el archivo esta en el folder de \"Data\". "
   ]
  },
  {
   "cell_type": "markdown",
   "metadata": {},
   "source": [
    "## Estructura de la data\n",
    "\n",
    "Los diagramas Sankeys son un poco complicados dado a como se tiene que estructurar la data. Esta se divide en 2 secciones, los \"Nodos\" y \"Enlaces o Flujos\". En algunos casos de poca data, como este del PIB, es mas facil utilizar otros programas como Excel para organizar la data. "
   ]
  },
  {
   "cell_type": "markdown",
   "metadata": {},
   "source": [
    "### Nodos: \n",
    "Los nodos son las entidades entre las cuales se mueven los flujos. Pueden representar, por ejemplo, diferentes departamentos en una organización, etapas en un proceso de producción, o categorías de gastos.Cada nodo debe tener un identificador único. En la mayoría de los casos, se representan como una lista de nombres o etiquetas."
   ]
  },
  {
   "cell_type": "code",
   "execution_count": 48,
   "metadata": {},
   "outputs": [
    {
     "data": {
      "text/html": [
       "<div>\n",
       "<style scoped>\n",
       "    .dataframe tbody tr th:only-of-type {\n",
       "        vertical-align: middle;\n",
       "    }\n",
       "\n",
       "    .dataframe tbody tr th {\n",
       "        vertical-align: top;\n",
       "    }\n",
       "\n",
       "    .dataframe thead th {\n",
       "        text-align: right;\n",
       "    }\n",
       "</style>\n",
       "<table border=\"1\" class=\"dataframe\">\n",
       "  <thead>\n",
       "    <tr style=\"text-align: right;\">\n",
       "      <th></th>\n",
       "      <th>label</th>\n",
       "      <th>id</th>\n",
       "    </tr>\n",
       "  </thead>\n",
       "  <tbody>\n",
       "    <tr>\n",
       "      <th>0</th>\n",
       "      <td>Producto Interno Bruto</td>\n",
       "      <td>0</td>\n",
       "    </tr>\n",
       "    <tr>\n",
       "      <th>1</th>\n",
       "      <td>Agropecuario</td>\n",
       "      <td>1</td>\n",
       "    </tr>\n",
       "    <tr>\n",
       "      <th>2</th>\n",
       "      <td>Industrias</td>\n",
       "      <td>2</td>\n",
       "    </tr>\n",
       "    <tr>\n",
       "      <th>3</th>\n",
       "      <td>Servicios</td>\n",
       "      <td>3</td>\n",
       "    </tr>\n",
       "    <tr>\n",
       "      <th>4</th>\n",
       "      <td>Impuestos a la producción netos de subsidios</td>\n",
       "      <td>4</td>\n",
       "    </tr>\n",
       "    <tr>\n",
       "      <th>5</th>\n",
       "      <td>Subsector Agrícola</td>\n",
       "      <td>5</td>\n",
       "    </tr>\n",
       "    <tr>\n",
       "      <th>6</th>\n",
       "      <td>Ganadería, Silvicultura y Pesca</td>\n",
       "      <td>6</td>\n",
       "    </tr>\n",
       "    <tr>\n",
       "      <th>7</th>\n",
       "      <td>Explotación de Minas y Canteras</td>\n",
       "      <td>7</td>\n",
       "    </tr>\n",
       "    <tr>\n",
       "      <th>8</th>\n",
       "      <td>Manufactura Local</td>\n",
       "      <td>8</td>\n",
       "    </tr>\n",
       "    <tr>\n",
       "      <th>9</th>\n",
       "      <td>Manufactura Zonas Francas</td>\n",
       "      <td>9</td>\n",
       "    </tr>\n",
       "  </tbody>\n",
       "</table>\n",
       "</div>"
      ],
      "text/plain": [
       "                                          label  id\n",
       "0                        Producto Interno Bruto   0\n",
       "1                                  Agropecuario   1\n",
       "2                                    Industrias   2\n",
       "3                                     Servicios   3\n",
       "4  Impuestos a la producción netos de subsidios   4\n",
       "5                            Subsector Agrícola   5\n",
       "6               Ganadería, Silvicultura y Pesca   6\n",
       "7               Explotación de Minas y Canteras   7\n",
       "8                             Manufactura Local   8\n",
       "9                     Manufactura Zonas Francas   9"
      ]
     },
     "execution_count": 48,
     "metadata": {},
     "output_type": "execute_result"
    }
   ],
   "source": [
    "df_nodes = pd.read_excel('Data/pib_data_estructurada.xlsx',sheet_name='Nodes')\n",
    "df_nodes.head(10)"
   ]
  },
  {
   "cell_type": "markdown",
   "metadata": {},
   "source": [
    "Aqui se puede ver como cada \"nodo\" de nuestro futuro diagrama tiene un identificador unico. "
   ]
  },
  {
   "cell_type": "markdown",
   "metadata": {},
   "source": [
    "### Enlaces:\n",
    "Los enlaces representan la cantidad de algo (como energía, materiales, dinero) que se mueve entre los nodos. Cada enlace se define típicamente por un punto de origen (de qué nodo sale), un destino (a qué nodo llega) y un valor que representa la magnitud del flujo. La representación común es una lista de registros, donde cada registro contiene el identificador del nodo de origen, el identificador del nodo de destino, y el valor del flujo."
   ]
  },
  {
   "cell_type": "code",
   "execution_count": 49,
   "metadata": {},
   "outputs": [
    {
     "data": {
      "text/html": [
       "<div>\n",
       "<style scoped>\n",
       "    .dataframe tbody tr th:only-of-type {\n",
       "        vertical-align: middle;\n",
       "    }\n",
       "\n",
       "    .dataframe tbody tr th {\n",
       "        vertical-align: top;\n",
       "    }\n",
       "\n",
       "    .dataframe thead th {\n",
       "        text-align: right;\n",
       "    }\n",
       "</style>\n",
       "<table border=\"1\" class=\"dataframe\">\n",
       "  <thead>\n",
       "    <tr style=\"text-align: right;\">\n",
       "      <th></th>\n",
       "      <th>fuente_id</th>\n",
       "      <th>objetivo_id</th>\n",
       "      <th>valor</th>\n",
       "      <th>fuente_texto</th>\n",
       "      <th>objetivo_texto</th>\n",
       "      <th>link_color</th>\n",
       "    </tr>\n",
       "  </thead>\n",
       "  <tbody>\n",
       "    <tr>\n",
       "      <th>0</th>\n",
       "      <td>0</td>\n",
       "      <td>1</td>\n",
       "      <td>3.623609e+05</td>\n",
       "      <td>PIB</td>\n",
       "      <td>Agropecuario</td>\n",
       "      <td>#386150</td>\n",
       "    </tr>\n",
       "    <tr>\n",
       "      <th>1</th>\n",
       "      <td>0</td>\n",
       "      <td>2</td>\n",
       "      <td>1.978718e+06</td>\n",
       "      <td>PIB</td>\n",
       "      <td>Industrias</td>\n",
       "      <td>#ff7f0e</td>\n",
       "    </tr>\n",
       "    <tr>\n",
       "      <th>2</th>\n",
       "      <td>0</td>\n",
       "      <td>3</td>\n",
       "      <td>3.500298e+06</td>\n",
       "      <td>PIB</td>\n",
       "      <td>Servicios</td>\n",
       "      <td>#084887</td>\n",
       "    </tr>\n",
       "    <tr>\n",
       "      <th>3</th>\n",
       "      <td>0</td>\n",
       "      <td>4</td>\n",
       "      <td>4.191873e+05</td>\n",
       "      <td>PIB</td>\n",
       "      <td>Impuestos a la producción netos de subsidios</td>\n",
       "      <td>#f95738</td>\n",
       "    </tr>\n",
       "    <tr>\n",
       "      <th>4</th>\n",
       "      <td>1</td>\n",
       "      <td>5</td>\n",
       "      <td>2.388952e+05</td>\n",
       "      <td>Agropecuario</td>\n",
       "      <td>Subsector Agrícola</td>\n",
       "      <td>#7dcd85</td>\n",
       "    </tr>\n",
       "    <tr>\n",
       "      <th>5</th>\n",
       "      <td>1</td>\n",
       "      <td>6</td>\n",
       "      <td>1.234657e+05</td>\n",
       "      <td>Agropecuario</td>\n",
       "      <td>Ganadería, Silvicultura y Pesca</td>\n",
       "      <td>#7dcd85</td>\n",
       "    </tr>\n",
       "    <tr>\n",
       "      <th>6</th>\n",
       "      <td>2</td>\n",
       "      <td>7</td>\n",
       "      <td>9.066611e+04</td>\n",
       "      <td>Industrias</td>\n",
       "      <td>Explotación de Minas y Canteras</td>\n",
       "      <td>#f58a07</td>\n",
       "    </tr>\n",
       "    <tr>\n",
       "      <th>7</th>\n",
       "      <td>2</td>\n",
       "      <td>8</td>\n",
       "      <td>7.287437e+05</td>\n",
       "      <td>Industrias</td>\n",
       "      <td>Manufactura Local</td>\n",
       "      <td>#f58a07</td>\n",
       "    </tr>\n",
       "    <tr>\n",
       "      <th>8</th>\n",
       "      <td>2</td>\n",
       "      <td>9</td>\n",
       "      <td>2.050372e+05</td>\n",
       "      <td>Industrias</td>\n",
       "      <td>Manufactura Zonas Francas</td>\n",
       "      <td>#f58a07</td>\n",
       "    </tr>\n",
       "    <tr>\n",
       "      <th>9</th>\n",
       "      <td>2</td>\n",
       "      <td>10</td>\n",
       "      <td>9.542708e+05</td>\n",
       "      <td>Industrias</td>\n",
       "      <td>Construcción</td>\n",
       "      <td>#f58a07</td>\n",
       "    </tr>\n",
       "  </tbody>\n",
       "</table>\n",
       "</div>"
      ],
      "text/plain": [
       "   fuente_id  objetivo_id         valor  fuente_texto  \\\n",
       "0          0            1  3.623609e+05           PIB   \n",
       "1          0            2  1.978718e+06           PIB   \n",
       "2          0            3  3.500298e+06           PIB   \n",
       "3          0            4  4.191873e+05           PIB   \n",
       "4          1            5  2.388952e+05  Agropecuario   \n",
       "5          1            6  1.234657e+05  Agropecuario   \n",
       "6          2            7  9.066611e+04    Industrias   \n",
       "7          2            8  7.287437e+05    Industrias   \n",
       "8          2            9  2.050372e+05    Industrias   \n",
       "9          2           10  9.542708e+05    Industrias   \n",
       "\n",
       "                                 objetivo_texto link_color  \n",
       "0                                  Agropecuario    #386150  \n",
       "1                                    Industrias    #ff7f0e  \n",
       "2                                     Servicios    #084887  \n",
       "3  Impuestos a la producción netos de subsidios    #f95738  \n",
       "4                            Subsector Agrícola    #7dcd85  \n",
       "5               Ganadería, Silvicultura y Pesca    #7dcd85  \n",
       "6               Explotación de Minas y Canteras    #f58a07  \n",
       "7                             Manufactura Local    #f58a07  \n",
       "8                     Manufactura Zonas Francas    #f58a07  \n",
       "9                                  Construcción    #f58a07  "
      ]
     },
     "execution_count": 49,
     "metadata": {},
     "output_type": "execute_result"
    }
   ],
   "source": [
    "df_links = pd.read_excel('Data/pib_data_estructurada.xlsx',sheet_name='Links')\n",
    "df_links.head(10)"
   ]
  },
  {
   "cell_type": "markdown",
   "metadata": {},
   "source": [
    "donde:\n",
    "- \"fuente_id\": es el id de la fuente, es decir, el punto de partida de donde va el flujo.\n",
    "- \"objetivo_id\": es el id del objetivo, es decir, el destino del flujo. \n",
    "- \"valor\": es la cantidad en numeros\n",
    "- \"link_color\": es opcional, pero aqui es el codigo CSS o nombre del color a elegir para ese enlace en especifico. Para elegir los colores recomiendo la pagina \"https://coolors.co/\". \n",
    "\n",
    "despues \"fuente_texto\" y \"objetivo_texto\" es solo para poder visualizar en este ejemplo las conexciones que estamos haciendo."
   ]
  },
  {
   "cell_type": "markdown",
   "metadata": {},
   "source": [
    "## Crear Sankey\n",
    "\n",
    "Utilizaremos la libreria _plotly_ para generar el diagrama. El codigo es el siguiente:"
   ]
  },
  {
   "cell_type": "code",
   "execution_count": 45,
   "metadata": {},
   "outputs": [
    {
     "data": {
      "application/vnd.plotly.v1+json": {
       "config": {
        "plotlyServerURL": "https://plot.ly"
       },
       "data": [
        {
         "link": {
          "color": [
           "#386150",
           "#ff7f0e",
           "#084887",
           "#f95738",
           "#7dcd85",
           "#7dcd85",
           "#f58a07",
           "#f58a07",
           "#f58a07",
           "#f58a07",
           "#f9ab55",
           "#f9ab55",
           "#f9ab55",
           "#f9ab55",
           "#449dd1",
           "#449dd1",
           "#449dd1",
           "#449dd1",
           "#449dd1",
           "#449dd1",
           "#449dd1",
           "#449dd1",
           "#449dd1",
           "#449dd1",
           "#449dd1",
           "#78c0e0",
           "#78c0e1",
           "#78c0e2",
           "#78c0e3"
          ],
          "source": [
           0,
           0,
           0,
           0,
           1,
           1,
           2,
           2,
           2,
           2,
           8,
           8,
           8,
           8,
           3,
           3,
           3,
           3,
           3,
           3,
           3,
           3,
           3,
           3,
           3,
           22,
           22,
           23,
           23
          ],
          "target": [
           1,
           2,
           3,
           4,
           5,
           6,
           7,
           8,
           9,
           10,
           11,
           12,
           13,
           14,
           15,
           16,
           17,
           18,
           19,
           20,
           21,
           22,
           23,
           24,
           25,
           26,
           27,
           28,
           29
          ],
          "value": [
           362360.8967020954,
           1978717.805694425,
           3500298.027307386,
           419187.2888925145,
           238895.23044431765,
           123465.66625777778,
           90666.11157978384,
           728743.6685349594,
           205037.20768223738,
           954270.8178974446,
           279472.9570410721,
           82236.22621006536,
           75134.31336937097,
           291900.171914451,
           91629.733960755,
           674066.6619382277,
           384933.88306678075,
           533386.9887836272,
           45374.15738621706,
           230333.16067851605,
           408492.86499765166,
           291982.06754330953,
           210067.41515155224,
           382169.8063917124,
           247861.28740903627,
           88833.04870591227,
           203149.01883739728,
           132396.26535022288,
           77671.14980132937
          ]
         },
         "node": {
          "color": "black",
          "label": [
           "Producto Interno Bruto",
           "Agropecuario",
           "Industrias",
           "Servicios",
           "Impuestos a la producción netos de subsidios",
           "Subsector Agrícola",
           "Ganadería, Silvicultura y Pesca",
           "Explotación de Minas y Canteras",
           "Manufactura Local",
           "Manufactura Zonas Francas",
           "Construcción",
           "Industrias de Alimentos",
           "Elaboración de Bebidas y Productos de Tabaco",
           "Fabricación de Productos de la Refinación de Petróleo y Quimicos",
           "Otras Manufacturas",
           "Energía y Agua",
           "Comercio",
           "Hoteles, Bares y Restaurantes",
           "Transporte y Almacenamiento",
           "Comunicaciones",
           "Intermediación Financiera, Seguros y Actividades Conexas",
           "Actividades Inmobiliarias y de Alquiler",
           "Enseñanza",
           "Salud",
           "Otras Actividades de Servicios de Mercado",
           "Administración Pública y Defensa; Seguridad Social de Afiliación Obligatoria y Otros Servicios",
           "Enseñanza de Mercado",
           "Enseñanza No de Mercado",
           "Salud de Mercado",
           "Salud No de Mercado"
          ],
          "line": {
           "color": "black",
           "width": 0.5
          },
          "pad": 15,
          "thickness": 15
         },
         "textfont": {
          "family": "Arial",
          "size": 12
         },
         "type": "sankey"
        }
       ],
       "layout": {
        "font": {
         "size": 10
        },
        "height": 800,
        "template": {
         "data": {
          "bar": [
           {
            "error_x": {
             "color": "#2a3f5f"
            },
            "error_y": {
             "color": "#2a3f5f"
            },
            "marker": {
             "line": {
              "color": "#E5ECF6",
              "width": 0.5
             },
             "pattern": {
              "fillmode": "overlay",
              "size": 10,
              "solidity": 0.2
             }
            },
            "type": "bar"
           }
          ],
          "barpolar": [
           {
            "marker": {
             "line": {
              "color": "#E5ECF6",
              "width": 0.5
             },
             "pattern": {
              "fillmode": "overlay",
              "size": 10,
              "solidity": 0.2
             }
            },
            "type": "barpolar"
           }
          ],
          "carpet": [
           {
            "aaxis": {
             "endlinecolor": "#2a3f5f",
             "gridcolor": "white",
             "linecolor": "white",
             "minorgridcolor": "white",
             "startlinecolor": "#2a3f5f"
            },
            "baxis": {
             "endlinecolor": "#2a3f5f",
             "gridcolor": "white",
             "linecolor": "white",
             "minorgridcolor": "white",
             "startlinecolor": "#2a3f5f"
            },
            "type": "carpet"
           }
          ],
          "choropleth": [
           {
            "colorbar": {
             "outlinewidth": 0,
             "ticks": ""
            },
            "type": "choropleth"
           }
          ],
          "contour": [
           {
            "colorbar": {
             "outlinewidth": 0,
             "ticks": ""
            },
            "colorscale": [
             [
              0,
              "#0d0887"
             ],
             [
              0.1111111111111111,
              "#46039f"
             ],
             [
              0.2222222222222222,
              "#7201a8"
             ],
             [
              0.3333333333333333,
              "#9c179e"
             ],
             [
              0.4444444444444444,
              "#bd3786"
             ],
             [
              0.5555555555555556,
              "#d8576b"
             ],
             [
              0.6666666666666666,
              "#ed7953"
             ],
             [
              0.7777777777777778,
              "#fb9f3a"
             ],
             [
              0.8888888888888888,
              "#fdca26"
             ],
             [
              1,
              "#f0f921"
             ]
            ],
            "type": "contour"
           }
          ],
          "contourcarpet": [
           {
            "colorbar": {
             "outlinewidth": 0,
             "ticks": ""
            },
            "type": "contourcarpet"
           }
          ],
          "heatmap": [
           {
            "colorbar": {
             "outlinewidth": 0,
             "ticks": ""
            },
            "colorscale": [
             [
              0,
              "#0d0887"
             ],
             [
              0.1111111111111111,
              "#46039f"
             ],
             [
              0.2222222222222222,
              "#7201a8"
             ],
             [
              0.3333333333333333,
              "#9c179e"
             ],
             [
              0.4444444444444444,
              "#bd3786"
             ],
             [
              0.5555555555555556,
              "#d8576b"
             ],
             [
              0.6666666666666666,
              "#ed7953"
             ],
             [
              0.7777777777777778,
              "#fb9f3a"
             ],
             [
              0.8888888888888888,
              "#fdca26"
             ],
             [
              1,
              "#f0f921"
             ]
            ],
            "type": "heatmap"
           }
          ],
          "heatmapgl": [
           {
            "colorbar": {
             "outlinewidth": 0,
             "ticks": ""
            },
            "colorscale": [
             [
              0,
              "#0d0887"
             ],
             [
              0.1111111111111111,
              "#46039f"
             ],
             [
              0.2222222222222222,
              "#7201a8"
             ],
             [
              0.3333333333333333,
              "#9c179e"
             ],
             [
              0.4444444444444444,
              "#bd3786"
             ],
             [
              0.5555555555555556,
              "#d8576b"
             ],
             [
              0.6666666666666666,
              "#ed7953"
             ],
             [
              0.7777777777777778,
              "#fb9f3a"
             ],
             [
              0.8888888888888888,
              "#fdca26"
             ],
             [
              1,
              "#f0f921"
             ]
            ],
            "type": "heatmapgl"
           }
          ],
          "histogram": [
           {
            "marker": {
             "pattern": {
              "fillmode": "overlay",
              "size": 10,
              "solidity": 0.2
             }
            },
            "type": "histogram"
           }
          ],
          "histogram2d": [
           {
            "colorbar": {
             "outlinewidth": 0,
             "ticks": ""
            },
            "colorscale": [
             [
              0,
              "#0d0887"
             ],
             [
              0.1111111111111111,
              "#46039f"
             ],
             [
              0.2222222222222222,
              "#7201a8"
             ],
             [
              0.3333333333333333,
              "#9c179e"
             ],
             [
              0.4444444444444444,
              "#bd3786"
             ],
             [
              0.5555555555555556,
              "#d8576b"
             ],
             [
              0.6666666666666666,
              "#ed7953"
             ],
             [
              0.7777777777777778,
              "#fb9f3a"
             ],
             [
              0.8888888888888888,
              "#fdca26"
             ],
             [
              1,
              "#f0f921"
             ]
            ],
            "type": "histogram2d"
           }
          ],
          "histogram2dcontour": [
           {
            "colorbar": {
             "outlinewidth": 0,
             "ticks": ""
            },
            "colorscale": [
             [
              0,
              "#0d0887"
             ],
             [
              0.1111111111111111,
              "#46039f"
             ],
             [
              0.2222222222222222,
              "#7201a8"
             ],
             [
              0.3333333333333333,
              "#9c179e"
             ],
             [
              0.4444444444444444,
              "#bd3786"
             ],
             [
              0.5555555555555556,
              "#d8576b"
             ],
             [
              0.6666666666666666,
              "#ed7953"
             ],
             [
              0.7777777777777778,
              "#fb9f3a"
             ],
             [
              0.8888888888888888,
              "#fdca26"
             ],
             [
              1,
              "#f0f921"
             ]
            ],
            "type": "histogram2dcontour"
           }
          ],
          "mesh3d": [
           {
            "colorbar": {
             "outlinewidth": 0,
             "ticks": ""
            },
            "type": "mesh3d"
           }
          ],
          "parcoords": [
           {
            "line": {
             "colorbar": {
              "outlinewidth": 0,
              "ticks": ""
             }
            },
            "type": "parcoords"
           }
          ],
          "pie": [
           {
            "automargin": true,
            "type": "pie"
           }
          ],
          "scatter": [
           {
            "marker": {
             "colorbar": {
              "outlinewidth": 0,
              "ticks": ""
             }
            },
            "type": "scatter"
           }
          ],
          "scatter3d": [
           {
            "line": {
             "colorbar": {
              "outlinewidth": 0,
              "ticks": ""
             }
            },
            "marker": {
             "colorbar": {
              "outlinewidth": 0,
              "ticks": ""
             }
            },
            "type": "scatter3d"
           }
          ],
          "scattercarpet": [
           {
            "marker": {
             "colorbar": {
              "outlinewidth": 0,
              "ticks": ""
             }
            },
            "type": "scattercarpet"
           }
          ],
          "scattergeo": [
           {
            "marker": {
             "colorbar": {
              "outlinewidth": 0,
              "ticks": ""
             }
            },
            "type": "scattergeo"
           }
          ],
          "scattergl": [
           {
            "marker": {
             "colorbar": {
              "outlinewidth": 0,
              "ticks": ""
             }
            },
            "type": "scattergl"
           }
          ],
          "scattermapbox": [
           {
            "marker": {
             "colorbar": {
              "outlinewidth": 0,
              "ticks": ""
             }
            },
            "type": "scattermapbox"
           }
          ],
          "scatterpolar": [
           {
            "marker": {
             "colorbar": {
              "outlinewidth": 0,
              "ticks": ""
             }
            },
            "type": "scatterpolar"
           }
          ],
          "scatterpolargl": [
           {
            "marker": {
             "colorbar": {
              "outlinewidth": 0,
              "ticks": ""
             }
            },
            "type": "scatterpolargl"
           }
          ],
          "scatterternary": [
           {
            "marker": {
             "colorbar": {
              "outlinewidth": 0,
              "ticks": ""
             }
            },
            "type": "scatterternary"
           }
          ],
          "surface": [
           {
            "colorbar": {
             "outlinewidth": 0,
             "ticks": ""
            },
            "colorscale": [
             [
              0,
              "#0d0887"
             ],
             [
              0.1111111111111111,
              "#46039f"
             ],
             [
              0.2222222222222222,
              "#7201a8"
             ],
             [
              0.3333333333333333,
              "#9c179e"
             ],
             [
              0.4444444444444444,
              "#bd3786"
             ],
             [
              0.5555555555555556,
              "#d8576b"
             ],
             [
              0.6666666666666666,
              "#ed7953"
             ],
             [
              0.7777777777777778,
              "#fb9f3a"
             ],
             [
              0.8888888888888888,
              "#fdca26"
             ],
             [
              1,
              "#f0f921"
             ]
            ],
            "type": "surface"
           }
          ],
          "table": [
           {
            "cells": {
             "fill": {
              "color": "#EBF0F8"
             },
             "line": {
              "color": "white"
             }
            },
            "header": {
             "fill": {
              "color": "#C8D4E3"
             },
             "line": {
              "color": "white"
             }
            },
            "type": "table"
           }
          ]
         },
         "layout": {
          "annotationdefaults": {
           "arrowcolor": "#2a3f5f",
           "arrowhead": 0,
           "arrowwidth": 1
          },
          "autotypenumbers": "strict",
          "coloraxis": {
           "colorbar": {
            "outlinewidth": 0,
            "ticks": ""
           }
          },
          "colorscale": {
           "diverging": [
            [
             0,
             "#8e0152"
            ],
            [
             0.1,
             "#c51b7d"
            ],
            [
             0.2,
             "#de77ae"
            ],
            [
             0.3,
             "#f1b6da"
            ],
            [
             0.4,
             "#fde0ef"
            ],
            [
             0.5,
             "#f7f7f7"
            ],
            [
             0.6,
             "#e6f5d0"
            ],
            [
             0.7,
             "#b8e186"
            ],
            [
             0.8,
             "#7fbc41"
            ],
            [
             0.9,
             "#4d9221"
            ],
            [
             1,
             "#276419"
            ]
           ],
           "sequential": [
            [
             0,
             "#0d0887"
            ],
            [
             0.1111111111111111,
             "#46039f"
            ],
            [
             0.2222222222222222,
             "#7201a8"
            ],
            [
             0.3333333333333333,
             "#9c179e"
            ],
            [
             0.4444444444444444,
             "#bd3786"
            ],
            [
             0.5555555555555556,
             "#d8576b"
            ],
            [
             0.6666666666666666,
             "#ed7953"
            ],
            [
             0.7777777777777778,
             "#fb9f3a"
            ],
            [
             0.8888888888888888,
             "#fdca26"
            ],
            [
             1,
             "#f0f921"
            ]
           ],
           "sequentialminus": [
            [
             0,
             "#0d0887"
            ],
            [
             0.1111111111111111,
             "#46039f"
            ],
            [
             0.2222222222222222,
             "#7201a8"
            ],
            [
             0.3333333333333333,
             "#9c179e"
            ],
            [
             0.4444444444444444,
             "#bd3786"
            ],
            [
             0.5555555555555556,
             "#d8576b"
            ],
            [
             0.6666666666666666,
             "#ed7953"
            ],
            [
             0.7777777777777778,
             "#fb9f3a"
            ],
            [
             0.8888888888888888,
             "#fdca26"
            ],
            [
             1,
             "#f0f921"
            ]
           ]
          },
          "colorway": [
           "#636efa",
           "#EF553B",
           "#00cc96",
           "#ab63fa",
           "#FFA15A",
           "#19d3f3",
           "#FF6692",
           "#B6E880",
           "#FF97FF",
           "#FECB52"
          ],
          "font": {
           "color": "#2a3f5f"
          },
          "geo": {
           "bgcolor": "white",
           "lakecolor": "white",
           "landcolor": "#E5ECF6",
           "showlakes": true,
           "showland": true,
           "subunitcolor": "white"
          },
          "hoverlabel": {
           "align": "left"
          },
          "hovermode": "closest",
          "mapbox": {
           "style": "light"
          },
          "paper_bgcolor": "white",
          "plot_bgcolor": "#E5ECF6",
          "polar": {
           "angularaxis": {
            "gridcolor": "white",
            "linecolor": "white",
            "ticks": ""
           },
           "bgcolor": "#E5ECF6",
           "radialaxis": {
            "gridcolor": "white",
            "linecolor": "white",
            "ticks": ""
           }
          },
          "scene": {
           "xaxis": {
            "backgroundcolor": "#E5ECF6",
            "gridcolor": "white",
            "gridwidth": 2,
            "linecolor": "white",
            "showbackground": true,
            "ticks": "",
            "zerolinecolor": "white"
           },
           "yaxis": {
            "backgroundcolor": "#E5ECF6",
            "gridcolor": "white",
            "gridwidth": 2,
            "linecolor": "white",
            "showbackground": true,
            "ticks": "",
            "zerolinecolor": "white"
           },
           "zaxis": {
            "backgroundcolor": "#E5ECF6",
            "gridcolor": "white",
            "gridwidth": 2,
            "linecolor": "white",
            "showbackground": true,
            "ticks": "",
            "zerolinecolor": "white"
           }
          },
          "shapedefaults": {
           "line": {
            "color": "#2a3f5f"
           }
          },
          "ternary": {
           "aaxis": {
            "gridcolor": "white",
            "linecolor": "white",
            "ticks": ""
           },
           "baxis": {
            "gridcolor": "white",
            "linecolor": "white",
            "ticks": ""
           },
           "bgcolor": "#E5ECF6",
           "caxis": {
            "gridcolor": "white",
            "linecolor": "white",
            "ticks": ""
           }
          },
          "title": {
           "x": 0.05
          },
          "xaxis": {
           "automargin": true,
           "gridcolor": "white",
           "linecolor": "white",
           "ticks": "",
           "title": {
            "standoff": 15
           },
           "zerolinecolor": "white",
           "zerolinewidth": 2
          },
          "yaxis": {
           "automargin": true,
           "gridcolor": "white",
           "linecolor": "white",
           "ticks": "",
           "title": {
            "standoff": 15
           },
           "zerolinecolor": "white",
           "zerolinewidth": 2
          }
         }
        },
        "title": {
         "text": "Origen del Producto Interno Bruto - 2022"
        },
        "width": 1200
       }
      }
     },
     "metadata": {},
     "output_type": "display_data"
    }
   ],
   "source": [
    "import plotly.graph_objects as go\n",
    "\n",
    "# Construir la figura. \n",
    "fig = go.Figure(data=[go.Sankey(\n",
    "\n",
    "    # Para elegir el font a utilizar, tamaño, etc\n",
    "    textfont = dict(\n",
    "        family = 'Arial',\n",
    "        size = 12\n",
    "    ),\n",
    "\n",
    "    # Para especificar los nombres de los nodes, tamaños, colores, etc\n",
    "   node = dict(\n",
    "      pad = 15,\n",
    "      thickness = 15,\n",
    "      line = dict(color = \"black\", width = 0.5),\n",
    "      label = df_nodes['label'],\n",
    "      color = 'black'\n",
    "   ),\n",
    "\n",
    "    # Insertar los links\n",
    "   link = dict(\n",
    "      source=df_links['fuente_id'],\n",
    "      target=df_links['objetivo_id'],\n",
    "      value=df_links['valor'],\n",
    "      color=df_links['link_color'],\n",
    "   )\n",
    ")])\n",
    "\n",
    "# Cambiar caracteristicas de la figura, como titulo, tamaño, etc\n",
    "fig.update_layout(\n",
    "   title_text=\"Origen del Producto Interno Bruto - 2022\",\n",
    "   font_size=10,\n",
    "   width = 1200,\n",
    "   height=800\n",
    ")"
   ]
  },
  {
   "cell_type": "code",
   "execution_count": 46,
   "metadata": {},
   "outputs": [],
   "source": [
    "# Salvar en formato HTML interactivo\n",
    "fig.write_html(\"PIB_Sankey.html\")"
   ]
  },
  {
   "cell_type": "markdown",
   "metadata": {},
   "source": [
    "### Otros recursos\n",
    "\n",
    "Blog explicativo: https://plotly.com/blog/sankey-diagrams/\n",
    "\n",
    "Documentacion: https://plotly.github.io/plotly.py-docs/generated/plotly.graph_objects.Sankey.html\n",
    "\n"
   ]
  }
 ],
 "metadata": {
  "kernelspec": {
   "display_name": "base",
   "language": "python",
   "name": "python3"
  },
  "language_info": {
   "codemirror_mode": {
    "name": "ipython",
    "version": 3
   },
   "file_extension": ".py",
   "mimetype": "text/x-python",
   "name": "python",
   "nbconvert_exporter": "python",
   "pygments_lexer": "ipython3",
   "version": "3.9.12"
  }
 },
 "nbformat": 4,
 "nbformat_minor": 2
}
